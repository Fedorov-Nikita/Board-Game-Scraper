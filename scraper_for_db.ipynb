{
 "cells": [
  {
   "cell_type": "markdown",
   "id": "1c753491",
   "metadata": {},
   "source": [
    "# Import libs and set configs"
   ]
  },
  {
   "cell_type": "code",
   "execution_count": 1,
   "id": "b9555564",
   "metadata": {},
   "outputs": [],
   "source": [
    "from scr.update import daily\n",
    "\n",
    "class CFG:\n",
    "    PATH_TO_DB = './data/board_games.sqlite'"
   ]
  },
  {
   "cell_type": "code",
   "execution_count": 9,
   "id": "5eaecc1a",
   "metadata": {},
   "outputs": [
    {
     "name": "stdout",
     "output_type": "stream",
     "text": [
      "Updated 500 users in 6:00:53.851909\n"
     ]
    }
   ],
   "source": [
    "daily(PATH_TO_DB=CFG.PATH_TO_DB, n_users=500, with_ratings=True, stop_after_hours=6)"
   ]
  },
  {
   "cell_type": "code",
   "execution_count": 2,
   "id": "3670240a",
   "metadata": {},
   "outputs": [
    {
     "name": "stdout",
     "output_type": "stream",
     "text": [
      "Updated 6 users in 0:04:33.448950\n",
      "Total 6907 users updated for last 30 days\n",
      "For actualization - 1662762 users\n"
     ]
    }
   ],
   "source": [
    "daily(PATH_TO_DB=CFG.PATH_TO_DB, n_users=10, with_ratings=False, stop_after_minutes=2, check_plans=True)"
   ]
  }
 ],
 "metadata": {
  "kernelspec": {
   "display_name": "Python 3 (ipykernel)",
   "language": "python",
   "name": "python3"
  },
  "language_info": {
   "codemirror_mode": {
    "name": "ipython",
    "version": 3
   },
   "file_extension": ".py",
   "mimetype": "text/x-python",
   "name": "python",
   "nbconvert_exporter": "python",
   "pygments_lexer": "ipython3",
   "version": "3.10.6"
  }
 },
 "nbformat": 4,
 "nbformat_minor": 5
}
