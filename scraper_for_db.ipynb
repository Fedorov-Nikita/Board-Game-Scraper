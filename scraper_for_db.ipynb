{
 "cells": [
  {
   "cell_type": "markdown",
   "id": "3f16c649",
   "metadata": {},
   "source": [
    "add user into db by nickname\n",
    "\n",
    "add columns to users table: https://boardgamegeek.com/user/zombiegod\n",
    "- work link (boolean)\n",
    "- Registration Date (date)\n",
    "- Last Profile Update (date)\n",
    "- Last Login (date)\n",
    "\n",
    "aldoritm if we dont have user in db: \n",
    "- check link\n",
    "- get profile info\n",
    "- insert user into db"
   ]
  },
  {
   "cell_type": "code",
   "execution_count": 1,
   "id": "b9555564",
   "metadata": {},
   "outputs": [],
   "source": [
    "import requests as re\n",
    "from bs4 import BeautifulSoup\n",
    "import sqlite3\n",
    "from datetime import date\n",
    "\n",
    "import pandas as pd\n",
    "import numpy as np\n",
    "\n",
    "import time\n",
    "from tqdm.notebook import tqdm\n",
    "\n",
    "from scr.utils import get_user_profile, clear_link \n",
    "from scr.users_bgg import add_user_into_db\n",
    "from scr.loading_bgg import get_api_bgg_game_data"
   ]
  },
  {
   "cell_type": "code",
   "execution_count": 2,
   "id": "50bf37f2",
   "metadata": {},
   "outputs": [],
   "source": [
    "class CFG:\n",
    "    PATH_TO_DB = './data/board_games.sqlite'\n",
    "    PATH_FOR_BG_FILES = './data/scraped/'"
   ]
  },
  {
   "cell_type": "code",
   "execution_count": 4,
   "id": "fd5d90c0",
   "metadata": {},
   "outputs": [],
   "source": [
    "get_api_bgg_game_data(unique_ids=[37111], save_path=CFG.PATH_FOR_BG_FILES)"
   ]
  },
  {
   "cell_type": "code",
   "execution_count": null,
   "id": "2610b272",
   "metadata": {},
   "outputs": [],
   "source": []
  },
  {
   "cell_type": "code",
   "execution_count": 3,
   "id": "0ae0bd27",
   "metadata": {},
   "outputs": [],
   "source": [
    "add_user_into_db('AdrenRus', PATH_TO_DB=CFG.PATH_TO_DB)"
   ]
  },
  {
   "cell_type": "code",
   "execution_count": 4,
   "id": "823b4e0c",
   "metadata": {},
   "outputs": [
    {
     "data": {
      "text/plain": [
       "[(1669691,\n",
       "  'AdrenRus',\n",
       "  None,\n",
       "  None,\n",
       "  '2021-11-08',\n",
       "  '2022-12-19',\n",
       "  '2023-04-13',\n",
       "  '2023-04-13')]"
      ]
     },
     "execution_count": 4,
     "metadata": {},
     "output_type": "execute_result"
    }
   ],
   "source": [
    "conn = sqlite3.connect(CFG.PATH_TO_DB)\n",
    "\n",
    "# create a cursor object\n",
    "cursor = conn.cursor()\n",
    "\n",
    "cursor.execute('''\n",
    "            SELECT *\n",
    "            FROM users\n",
    "            WHERE nickname = ?\n",
    "            ''',('AdrenRus', ))\n",
    "data = cursor.fetchall()\n",
    "       \n",
    "\n",
    "# cursor.execute('''\n",
    "#             INSERT INTO descriptions (boardgame_id, description) VALUES (?, ?)\n",
    "#             ''',(int(row.boardgame_id), row.description))\n",
    "\n",
    "# commit the changes\n",
    "# conn.commit()\n",
    "\n",
    "# close the connection\n",
    "conn.close()\n",
    "data"
   ]
  },
  {
   "cell_type": "code",
   "execution_count": null,
   "id": "3dbd8d3a",
   "metadata": {},
   "outputs": [],
   "source": []
  },
  {
   "cell_type": "code",
   "execution_count": 33,
   "id": "429c1419",
   "metadata": {},
   "outputs": [
    {
     "name": "stderr",
     "output_type": "stream",
     "text": [
      "/Users/nikitafedorov/Documents/DataScience/Projects/Board-Game-Scraper/scr/utils.py:29: GuessedAtParserWarning: No parser was explicitly specified, so I'm using the best available HTML parser for this system (\"lxml\"). This usually isn't a problem, but if you run this code on another system, or in a different virtual environment, it may use a different parser and behave differently.\n",
      "\n",
      "The code that caused this warning is on line 29 of the file /Users/nikitafedorov/Documents/DataScience/Projects/Board-Game-Scraper/scr/utils.py. To get rid of this warning, pass the additional argument 'features=\"lxml\"' to the BeautifulSoup constructor.\n",
      "\n",
      "  soup = BeautifulSoup(r.text)\n"
     ]
    },
    {
     "data": {
      "text/plain": [
       "{'registration_date': '2021-11-08',\n",
       " 'last_profile_update': '2022-12-19',\n",
       " 'last_login': '2023-04-13',\n",
       " 'country': '',\n",
       " 'state': '',\n",
       " 'city': '',\n",
       " 'website': '',\n",
       " 'geekmail': 'Send Private Message to AdrenRus'}"
      ]
     },
     "execution_count": 33,
     "metadata": {},
     "output_type": "execute_result"
    }
   ],
   "source": [
    "user = get_user_profile('AdrenRus')\n",
    "user"
   ]
  },
  {
   "cell_type": "code",
   "execution_count": 4,
   "id": "aabfb723",
   "metadata": {},
   "outputs": [
    {
     "data": {
      "text/plain": [
       "[]"
      ]
     },
     "execution_count": 4,
     "metadata": {},
     "output_type": "execute_result"
    }
   ],
   "source": [
    "conn = sqlite3.connect(CFG.PATH_TO_DB)\n",
    "\n",
    "# create a cursor object\n",
    "cursor = conn.cursor()\n",
    "\n",
    "cursor.execute('''\n",
    "            SELECT *\n",
    "            FROM users\n",
    "            WHERE nickname = ?\n",
    "            ''',('AdrenRus', ))\n",
    "data = cursor.fetchall()\n",
    "       \n",
    "\n",
    "# cursor.execute('''\n",
    "#             INSERT INTO descriptions (boardgame_id, description) VALUES (?, ?)\n",
    "#             ''',(int(row.boardgame_id), row.description))\n",
    "\n",
    "# commit the changes\n",
    "# conn.commit()\n",
    "\n",
    "# close the connection\n",
    "conn.close()\n",
    "data"
   ]
  }
 ],
 "metadata": {
  "kernelspec": {
   "display_name": "Python 3 (ipykernel)",
   "language": "python",
   "name": "python3"
  },
  "language_info": {
   "codemirror_mode": {
    "name": "ipython",
    "version": 3
   },
   "file_extension": ".py",
   "mimetype": "text/x-python",
   "name": "python",
   "nbconvert_exporter": "python",
   "pygments_lexer": "ipython3",
   "version": "3.10.6"
  }
 },
 "nbformat": 4,
 "nbformat_minor": 5
}
