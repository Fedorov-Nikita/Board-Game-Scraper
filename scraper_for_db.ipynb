{
 "cells": [
  {
   "cell_type": "markdown",
   "id": "f73ae401",
   "metadata": {},
   "source": [
    "# Import libs and set configs"
   ]
  },
  {
   "cell_type": "code",
   "execution_count": 1,
   "id": "b9555564",
   "metadata": {},
   "outputs": [],
   "source": [
    "import requests as re\n",
    "from bs4 import BeautifulSoup\n",
    "import sqlite3\n",
    "from datetime import date\n",
    "from datetime import datetime\n",
    "\n",
    "import pandas as pd\n",
    "import numpy as np\n",
    "\n",
    "import time\n",
    "from tqdm.notebook import tqdm\n",
    "\n",
    "from scr.utils import get_user_profile, clear_link \n",
    "from scr.users_bgg import parse_loaded_users_info\n",
    "from scr.loading_bgg import load_stack_of_users_to_buffer\n",
    "\n",
    "class CFG:\n",
    "    PATH_TO_DB = './data/board_games.sqlite'\n",
    "    PATH_FOR_TMP_BG_FILES = './data/scraped/bgg_boardgame_tmp'\n",
    "    PATH_FOR_TMP_USER_FILES = './data/scraped/bgg_user_tmp'\n",
    "    PATH_TO_SAVE_USER_FILES = './data/scraped/bgg_user'\n",
    "    PATH_TO_TMP_FILES = './data/scraped/tmp'"
   ]
  },
  {
   "cell_type": "code",
   "execution_count": 2,
   "id": "67b5f03d",
   "metadata": {
    "scrolled": true
   },
   "outputs": [
    {
     "name": "stderr",
     "output_type": "stream",
     "text": [
      "Users: 100%|██████████████████████████████████████| 2/2 [01:06<00:00, 33.19s/it]"
     ]
    },
    {
     "name": "stdout",
     "output_type": "stream",
     "text": [
      "counter_update: 56 counter_add: 0 / 615\n"
     ]
    },
    {
     "name": "stderr",
     "output_type": "stream",
     "text": [
      "\n"
     ]
    }
   ],
   "source": [
    "parse_loaded_users_info(PATH_TO_DB=CFG.PATH_TO_DB, \n",
    "                        PATH_TO_READ=CFG.PATH_FOR_TMP_USER_FILES, \n",
    "                        PATH_TO_SAVE=CFG.PATH_TO_SAVE_USER_FILES, \n",
    "                        PATH_TO_DEL=CFG.PATH_TO_TMP_FILES)\n"
   ]
  },
  {
   "cell_type": "code",
   "execution_count": 5,
   "id": "68dcf7ed",
   "metadata": {},
   "outputs": [
    {
     "data": {
      "text/plain": [
       "[(1381617, 5, 4098, 10.0, 449953, '2021-11-17'),\n",
       " (20186203, 5, 4098, 10.0, 3363582, '2023-03-30')]"
      ]
     },
     "execution_count": 5,
     "metadata": {},
     "output_type": "execute_result"
    }
   ],
   "source": [
    "conn = sqlite3.connect(CFG.PATH_TO_DB)\n",
    "cursor = conn.cursor()\n",
    "\n",
    "cursor.execute(f'''\n",
    "                SELECT rating_id, user_id, boardgame_id, rating, comment_id, last_modified\n",
    "                FROM ratings c\n",
    "                WHERE user_id = ? AND boardgame_id = ?\n",
    "                ''', (5,4098))\n",
    "data = cursor.fetchall()\n",
    "conn.close()\n",
    "data"
   ]
  },
  {
   "cell_type": "code",
   "execution_count": null,
   "id": "c5ff0052",
   "metadata": {},
   "outputs": [],
   "source": []
  },
  {
   "cell_type": "code",
   "execution_count": 3,
   "id": "1df8e037",
   "metadata": {},
   "outputs": [
    {
     "name": "stderr",
     "output_type": "stream",
     "text": [
      "100%|███████████████████████████████████████████| 10/10 [00:11<00:00,  1.10s/it]\n",
      "100%|███████████████████████████████████████████| 10/10 [00:12<00:00,  1.26s/it]\n"
     ]
    }
   ],
   "source": [
    "load_stack_of_users_to_buffer(PATH_TO_DB=CFG.PATH_TO_DB, PATH_TO_SAVE=CFG.PATH_FOR_TMP_USER_FILES, n_users=10)"
   ]
  },
  {
   "cell_type": "code",
   "execution_count": 1,
   "id": "b8164d81",
   "metadata": {},
   "outputs": [
    {
     "name": "stdout",
     "output_type": "stream",
     "text": [
      "0\n"
     ]
    }
   ],
   "source": [
    "if not [0]:\n",
    "    print(1)\n",
    "else:\n",
    "    print(0)"
   ]
  },
  {
   "cell_type": "code",
   "execution_count": 2,
   "id": "64ddaf78",
   "metadata": {},
   "outputs": [
    {
     "data": {
      "text/plain": [
       "[]"
      ]
     },
     "execution_count": 2,
     "metadata": {},
     "output_type": "execute_result"
    }
   ],
   "source": [
    "[]"
   ]
  },
  {
   "cell_type": "code",
   "execution_count": 6,
   "id": "5534162a",
   "metadata": {},
   "outputs": [
    {
     "name": "stdout",
     "output_type": "stream",
     "text": [
      "False\n"
     ]
    }
   ],
   "source": [
    "if []:\n",
    "    print(True)\n",
    "else: \n",
    "    print(False)"
   ]
  },
  {
   "cell_type": "code",
   "execution_count": 2,
   "id": "50bf37f2",
   "metadata": {},
   "outputs": [],
   "source": []
  },
  {
   "cell_type": "code",
   "execution_count": 3,
   "id": "c1e84584",
   "metadata": {},
   "outputs": [],
   "source": [
    "nicknames = get_users_for_scrap(CFG.PATH_TO_DB)"
   ]
  },
  {
   "cell_type": "markdown",
   "id": "3f16c649",
   "metadata": {},
   "source": [
    "# User\n",
    "add user into db by nickname\n",
    "\n",
    "add columns to users table: https://boardgamegeek.com/user/zombiegod\n",
    "- work link (boolean)\n",
    "- Registration Date (date)\n",
    "- Last Profile Update (date)\n",
    "- Last Login (date)\n",
    "\n",
    "aldoritm if we dont have user in db: \n",
    "- check link\n",
    "- get profile info\n",
    "- insert user into db"
   ]
  },
  {
   "cell_type": "markdown",
   "id": "38a0a20a",
   "metadata": {},
   "source": [
    "# User's collections\n",
    "- Check 10k users with the oldest update date and download their data to disk\n",
    "- Parse data and load into database\n"
   ]
  },
  {
   "cell_type": "code",
   "execution_count": 21,
   "id": "ef4a9db4",
   "metadata": {},
   "outputs": [],
   "source": [
    "conn = sqlite3.connect(CFG.PATH_TO_DB)\n",
    "\n",
    "# create a cursor object\n",
    "cursor = conn.cursor()\n",
    "\n",
    "cursor.execute('''\n",
    "            SELECT nickname\n",
    "            FROM users\n",
    "            ORDER BY last_check ASC\n",
    "            LIMIt 10000\n",
    "            ''')\n",
    "data = cursor.fetchall()\n",
    "\n",
    "# close the connection\n",
    "conn.close()"
   ]
  },
  {
   "cell_type": "code",
   "execution_count": 23,
   "id": "fcdc07d4",
   "metadata": {
    "scrolled": false
   },
   "outputs": [],
   "source": [
    "nicknames = []\n",
    "for i in data:\n",
    "    nicknames.append(i[0])\n"
   ]
  },
  {
   "cell_type": "code",
   "execution_count": null,
   "id": "f6e7d851",
   "metadata": {},
   "outputs": [],
   "source": []
  },
  {
   "cell_type": "code",
   "execution_count": null,
   "id": "b051daca",
   "metadata": {},
   "outputs": [],
   "source": []
  },
  {
   "cell_type": "code",
   "execution_count": null,
   "id": "26659e9f",
   "metadata": {},
   "outputs": [],
   "source": []
  },
  {
   "cell_type": "code",
   "execution_count": null,
   "id": "894cc628",
   "metadata": {},
   "outputs": [],
   "source": []
  },
  {
   "cell_type": "code",
   "execution_count": 5,
   "id": "69593b84",
   "metadata": {},
   "outputs": [],
   "source": [
    "conn = sqlite3.connect(CFG.PATH_TO_DB)\n",
    "\n",
    "# create a cursor object\n",
    "cursor = conn.cursor()\n",
    "\n",
    "cursor.execute('''\n",
    "            SELECT boardgame_id\n",
    "            FROM boardgames\n",
    "            ''')\n",
    "data = cursor.fetchall()\n",
    "\n",
    "# close the connection\n",
    "conn.close()"
   ]
  },
  {
   "cell_type": "code",
   "execution_count": 6,
   "id": "70493ffd",
   "metadata": {},
   "outputs": [
    {
     "data": {
      "text/plain": [
       "134740"
      ]
     },
     "execution_count": 6,
     "metadata": {},
     "output_type": "execute_result"
    }
   ],
   "source": [
    "len(data)"
   ]
  },
  {
   "cell_type": "code",
   "execution_count": 9,
   "id": "dde03399",
   "metadata": {},
   "outputs": [
    {
     "data": {
      "application/vnd.jupyter.widget-view+json": {
       "model_id": "713fb4ade9464f3d82984bd067ccd791",
       "version_major": 2,
       "version_minor": 0
      },
      "text/plain": [
       "  0%|          | 0/134740 [00:00<?, ?it/s]"
      ]
     },
     "metadata": {},
     "output_type": "display_data"
    }
   ],
   "source": [
    "list_ids = []\n",
    "for i in tqdm(data):\n",
    "    list_ids.append(i[0])"
   ]
  },
  {
   "cell_type": "code",
   "execution_count": null,
   "id": "a89b3b8e",
   "metadata": {},
   "outputs": [],
   "source": []
  },
  {
   "cell_type": "code",
   "execution_count": 4,
   "id": "b8caf462",
   "metadata": {},
   "outputs": [],
   "source": []
  },
  {
   "cell_type": "code",
   "execution_count": 4,
   "id": "4d3b5403",
   "metadata": {},
   "outputs": [],
   "source": [
    "get_api_user_ratings_data('AdrenRus', save_path=CFG.PATH_FOR_USER_FILES)"
   ]
  },
  {
   "cell_type": "code",
   "execution_count": null,
   "id": "a1e05df6",
   "metadata": {},
   "outputs": [],
   "source": [
    "get_api_bgg_game_data(unique_ids=[37111], save_path=CFG.PATH_FOR_BG_FILES)"
   ]
  },
  {
   "cell_type": "code",
   "execution_count": 3,
   "id": "0ae0bd27",
   "metadata": {},
   "outputs": [],
   "source": [
    "add_user_into_db('AdrenRus', PATH_TO_DB=CFG.PATH_TO_DB)"
   ]
  },
  {
   "cell_type": "code",
   "execution_count": 4,
   "id": "e3817a39",
   "metadata": {},
   "outputs": [
    {
     "data": {
      "text/plain": [
       "[(1669691,\n",
       "  'AdrenRus',\n",
       "  None,\n",
       "  None,\n",
       "  '2021-11-08',\n",
       "  '2022-12-19',\n",
       "  '2023-04-13',\n",
       "  '2023-04-13')]"
      ]
     },
     "execution_count": 4,
     "metadata": {},
     "output_type": "execute_result"
    }
   ],
   "source": [
    "conn = sqlite3.connect(CFG.PATH_TO_DB)\n",
    "\n",
    "# create a cursor object\n",
    "cursor = conn.cursor()\n",
    "\n",
    "cursor.execute('''\n",
    "            SELECT *\n",
    "            FROM users\n",
    "            WHERE nickname = ?\n",
    "            ''',('AdrenRus', ))\n",
    "data = cursor.fetchall()\n",
    "       \n",
    "\n",
    "# cursor.execute('''\n",
    "#             INSERT INTO descriptions (boardgame_id, description) VALUES (?, ?)\n",
    "#             ''',(int(row.boardgame_id), row.description))\n",
    "\n",
    "# commit the changes\n",
    "# conn.commit()\n",
    "\n",
    "# close the connection\n",
    "conn.close()\n",
    "data"
   ]
  },
  {
   "cell_type": "code",
   "execution_count": null,
   "id": "b98fb279",
   "metadata": {},
   "outputs": [],
   "source": []
  },
  {
   "cell_type": "code",
   "execution_count": 33,
   "id": "429c1419",
   "metadata": {},
   "outputs": [
    {
     "name": "stderr",
     "output_type": "stream",
     "text": [
      "/Users/nikitafedorov/Documents/DataScience/Projects/Board-Game-Scraper/scr/utils.py:29: GuessedAtParserWarning: No parser was explicitly specified, so I'm using the best available HTML parser for this system (\"lxml\"). This usually isn't a problem, but if you run this code on another system, or in a different virtual environment, it may use a different parser and behave differently.\n",
      "\n",
      "The code that caused this warning is on line 29 of the file /Users/nikitafedorov/Documents/DataScience/Projects/Board-Game-Scraper/scr/utils.py. To get rid of this warning, pass the additional argument 'features=\"lxml\"' to the BeautifulSoup constructor.\n",
      "\n",
      "  soup = BeautifulSoup(r.text)\n"
     ]
    },
    {
     "data": {
      "text/plain": [
       "{'registration_date': '2021-11-08',\n",
       " 'last_profile_update': '2022-12-19',\n",
       " 'last_login': '2023-04-13',\n",
       " 'country': '',\n",
       " 'state': '',\n",
       " 'city': '',\n",
       " 'website': '',\n",
       " 'geekmail': 'Send Private Message to AdrenRus'}"
      ]
     },
     "execution_count": 33,
     "metadata": {},
     "output_type": "execute_result"
    }
   ],
   "source": [
    "user = get_user_profile('AdrenRus')\n",
    "user"
   ]
  },
  {
   "cell_type": "code",
   "execution_count": 4,
   "id": "aabfb723",
   "metadata": {},
   "outputs": [
    {
     "data": {
      "text/plain": [
       "[]"
      ]
     },
     "execution_count": 4,
     "metadata": {},
     "output_type": "execute_result"
    }
   ],
   "source": [
    "conn = sqlite3.connect(CFG.PATH_TO_DB)\n",
    "\n",
    "# create a cursor object\n",
    "cursor = conn.cursor()\n",
    "\n",
    "cursor.execute('''\n",
    "            SELECT *\n",
    "            FROM users\n",
    "            WHERE nickname = ?\n",
    "            ''',('AdrenRus', ))\n",
    "data = cursor.fetchall()\n",
    "       \n",
    "\n",
    "# cursor.execute('''\n",
    "#             INSERT INTO descriptions (boardgame_id, description) VALUES (?, ?)\n",
    "#             ''',(int(row.boardgame_id), row.description))\n",
    "\n",
    "# commit the changes\n",
    "# conn.commit()\n",
    "\n",
    "# close the connection\n",
    "conn.close()\n",
    "data"
   ]
  }
 ],
 "metadata": {
  "kernelspec": {
   "display_name": "Python 3 (ipykernel)",
   "language": "python",
   "name": "python3"
  },
  "language_info": {
   "codemirror_mode": {
    "name": "ipython",
    "version": 3
   },
   "file_extension": ".py",
   "mimetype": "text/x-python",
   "name": "python",
   "nbconvert_exporter": "python",
   "pygments_lexer": "ipython3",
   "version": "3.10.6"
  }
 },
 "nbformat": 4,
 "nbformat_minor": 5
}
