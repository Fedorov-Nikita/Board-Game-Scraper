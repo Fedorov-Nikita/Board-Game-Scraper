{
 "cells": [
  {
   "cell_type": "markdown",
   "id": "1c753491",
   "metadata": {},
   "source": [
    "# Import libs and set configs"
   ]
  },
  {
   "cell_type": "code",
   "execution_count": 1,
   "id": "b9555564",
   "metadata": {},
   "outputs": [],
   "source": [
    "import requests as re\n",
    "from bs4 import BeautifulSoup\n",
    "import sqlite3\n",
    "from datetime import date\n",
    "from datetime import datetime\n",
    "\n",
    "import pandas as pd\n",
    "import numpy as np\n",
    "\n",
    "import time\n",
    "from tqdm.notebook import tqdm\n",
    "\n",
    "# from scr.utils import get_user_profile, clear_link \n",
    "# from scr.users_bgg import parse_loaded_users_info\n",
    "# from scr.loading_bgg import get_loading_stat_from_db\n",
    "from scr.update import daily\n",
    "\n",
    "class CFG:\n",
    "    PATH_TO_DB = './data/board_games.sqlite'\n",
    "    PATH_FOR_TMP_BG_FILES = './data/scraped/bgg_boardgame_tmp'\n",
    "    PATH_FOR_TMP_USER_FILES = './data/scraped/bgg_user_tmp'\n",
    "    PATH_TO_SAVE_USER_FILES = './data/scraped/bgg_user'\n",
    "    PATH_TO_TMP_FILES = './data/scraped/tmp'"
   ]
  },
  {
   "cell_type": "code",
   "execution_count": 2,
   "id": "972b53e3",
   "metadata": {},
   "outputs": [
    {
     "name": "stdout",
     "output_type": "stream",
     "text": [
      "Updated 1000 users in 6:19:20.033045\n"
     ]
    }
   ],
   "source": [
    "daily(PATH_TO_DB=CFG.PATH_TO_DB, n_users=1000, with_ratings=False)"
   ]
  },
  {
   "cell_type": "code",
   "execution_count": null,
   "id": "5eaecc1a",
   "metadata": {},
   "outputs": [
    {
     "name": "stderr",
     "output_type": "stream",
     "text": [
      "Check users: 100%|████████████████████████████| 100/100 [02:34<00:00,  1.54s/it]\n",
      "Preparation: 100%|██████████████████████████████| 75/75 [00:48<00:00,  1.53it/s]\n",
      "Processing:  51%|█████████████▏            | 38/75 [3:15:11<3:10:03, 308.20s/it]\n"
     ]
    },
    {
     "name": "stdout",
     "output_type": "stream",
     "text": [
      "Need to recheck 37 users\n"
     ]
    },
    {
     "name": "stderr",
     "output_type": "stream",
     "text": [
      "Processing:  49%|█████████████▌              | 18/37 [41:47<1:05:53, 208.07s/it]"
     ]
    }
   ],
   "source": [
    "daily(PATH_TO_DB=CFG.PATH_TO_DB, n_users=100, with_ratings=True)"
   ]
  },
  {
   "cell_type": "code",
   "execution_count": 4,
   "id": "5c7ff5a1",
   "metadata": {
    "scrolled": true
   },
   "outputs": [
    {
     "name": "stdout",
     "output_type": "stream",
     "text": [
      "Updated 100 users in 0:36:54.203089\n",
      "Total 1442 users updated today\n",
      "For actualization - 1668230 users\n"
     ]
    }
   ],
   "source": [
    "daily(PATH_TO_DB=CFG.PATH_TO_DB, n_users=100, with_ratings=False, check_plans=True)"
   ]
  }
 ],
 "metadata": {
  "kernelspec": {
   "display_name": "Python 3 (ipykernel)",
   "language": "python",
   "name": "python3"
  },
  "language_info": {
   "codemirror_mode": {
    "name": "ipython",
    "version": 3
   },
   "file_extension": ".py",
   "mimetype": "text/x-python",
   "name": "python",
   "nbconvert_exporter": "python",
   "pygments_lexer": "ipython3",
   "version": "3.10.6"
  }
 },
 "nbformat": 4,
 "nbformat_minor": 5
}
