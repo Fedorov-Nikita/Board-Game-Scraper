{
 "cells": [
  {
   "cell_type": "markdown",
   "id": "c97e8146",
   "metadata": {},
   "source": [
    "# Import libs and set configs"
   ]
  },
  {
   "cell_type": "code",
   "execution_count": 1,
   "id": "b9555564",
   "metadata": {},
   "outputs": [],
   "source": [
    "import requests as re\n",
    "from bs4 import BeautifulSoup\n",
    "import sqlite3\n",
    "from datetime import date\n",
    "\n",
    "import pandas as pd\n",
    "import numpy as np\n",
    "\n",
    "import time\n",
    "from tqdm.notebook import tqdm\n",
    "\n",
    "from scr.utils import get_user_profile, clear_link \n",
    "from scr.users_bgg import parse_loaded_users_info\n",
    "from scr.loading_bgg import load_stack_of_users_to_buffer\n",
    "\n",
    "class CFG:\n",
    "    PATH_TO_DB = './data/board_games.sqlite'\n",
    "    PATH_FOR_TMP_BG_FILES = './data/scraped/bgg_boardgame_tmp'\n",
    "    PATH_FOR_TMP_USER_FILES = './data/scraped/bgg_user_tmp'"
   ]
  },
  {
   "cell_type": "code",
   "execution_count": 3,
   "id": "0138198b",
   "metadata": {},
   "outputs": [
    {
     "name": "stderr",
     "output_type": "stream",
     "text": [
      "100%|███████████████████████████████████████████| 10/10 [00:11<00:00,  1.10s/it]\n",
      "100%|███████████████████████████████████████████| 10/10 [00:12<00:00,  1.26s/it]\n"
     ]
    }
   ],
   "source": [
    "load_stack_of_users_to_buffer(PATH_TO_DB=CFG.PATH_TO_DB, PATH_TO_SAVE=CFG.PATH_FOR_TMP_USER_FILES, n_users=10)"
   ]
  },
  {
   "cell_type": "code",
   "execution_count": 15,
   "id": "01aa7264",
   "metadata": {},
   "outputs": [
    {
     "name": "stdout",
     "output_type": "stream",
     "text": [
      "0\n"
     ]
    }
   ],
   "source": [
    "if not [0]:\n",
    "    print(1)\n",
    "else:\n",
    "    print(0)"
   ]
  },
  {
   "cell_type": "code",
   "execution_count": 17,
   "id": "419dab69",
   "metadata": {},
   "outputs": [
    {
     "data": {
      "text/plain": [
       "True"
      ]
     },
     "execution_count": 17,
     "metadata": {},
     "output_type": "execute_result"
    }
   ],
   "source": [
    "not []"
   ]
  },
  {
   "cell_type": "code",
   "execution_count": 2,
   "id": "6f5285bc",
   "metadata": {},
   "outputs": [
    {
     "name": "stderr",
     "output_type": "stream",
     "text": [
      "\r",
      "  0%|                                                    | 0/11 [00:00<?, ?it/s]"
     ]
    },
    {
     "name": "stdout",
     "output_type": "stream",
     "text": [
      "add\n",
      "add\n",
      "add\n",
      "add\n",
      "add\n",
      "add\n",
      "add\n",
      "add\n",
      "add\n",
      "add\n",
      "add\n",
      "add\n",
      "add\n",
      "add\n",
      "add\n",
      "add\n",
      "add\n",
      "add\n",
      "add\n",
      "add\n",
      "add\n",
      "add\n"
     ]
    },
    {
     "name": "stderr",
     "output_type": "stream",
     "text": [
      "\r",
      " 55%|████████████████████████                    | 6/11 [00:27<00:22,  4.54s/it]"
     ]
    },
    {
     "name": "stdout",
     "output_type": "stream",
     "text": [
      "add\n"
     ]
    },
    {
     "name": "stderr",
     "output_type": "stream",
     "text": [
      "\n"
     ]
    },
    {
     "ename": "IndexError",
     "evalue": "list index out of range",
     "output_type": "error",
     "traceback": [
      "\u001b[0;31m---------------------------------------------------------------------------\u001b[0m",
      "\u001b[0;31mIndexError\u001b[0m                                Traceback (most recent call last)",
      "Input \u001b[0;32mIn [2]\u001b[0m, in \u001b[0;36m<cell line: 1>\u001b[0;34m()\u001b[0m\n\u001b[0;32m----> 1\u001b[0m \u001b[43mparse_loaded_users_info\u001b[49m\u001b[43m(\u001b[49m\u001b[43mPATH_TO_DB\u001b[49m\u001b[38;5;241;43m=\u001b[39;49m\u001b[43mCFG\u001b[49m\u001b[38;5;241;43m.\u001b[39;49m\u001b[43mPATH_TO_DB\u001b[49m\u001b[43m,\u001b[49m\u001b[43m \u001b[49m\u001b[43mPATH_TO_READ\u001b[49m\u001b[38;5;241;43m=\u001b[39;49m\u001b[43mCFG\u001b[49m\u001b[38;5;241;43m.\u001b[39;49m\u001b[43mPATH_FOR_TMP_USER_FILES\u001b[49m\u001b[43m,\u001b[49m\u001b[43m \u001b[49m\u001b[43mPATH_TO_SAVE\u001b[49m\u001b[38;5;241;43m=\u001b[39;49m\u001b[38;5;28;43;01mNone\u001b[39;49;00m\u001b[43m)\u001b[49m\n",
      "File \u001b[0;32m~/Documents/DataScience/Projects/Board-Game-Scraper/scr/users_bgg.py:150\u001b[0m, in \u001b[0;36mparse_loaded_users_info\u001b[0;34m(PATH_TO_DB, PATH_TO_READ, PATH_TO_SAVE)\u001b[0m\n\u001b[1;32m    147\u001b[0m num_of_plays \u001b[38;5;241m=\u001b[39m \u001b[38;5;28mint\u001b[39m(item\u001b[38;5;241m.\u001b[39mfind(\u001b[38;5;124m'\u001b[39m\u001b[38;5;124mnumplays\u001b[39m\u001b[38;5;124m'\u001b[39m)\u001b[38;5;241m.\u001b[39mtext)\n\u001b[1;32m    148\u001b[0m comment \u001b[38;5;241m=\u001b[39m item\u001b[38;5;241m.\u001b[39mfind(\u001b[38;5;124m'\u001b[39m\u001b[38;5;124mcomment\u001b[39m\u001b[38;5;124m'\u001b[39m)\u001b[38;5;241m.\u001b[39mtext\n\u001b[0;32m--> 150\u001b[0m comment_id \u001b[38;5;241m=\u001b[39m \u001b[43mget_comment_id\u001b[49m\u001b[43m(\u001b[49m\u001b[43mPATH_TO_DB\u001b[49m\u001b[38;5;241;43m=\u001b[39;49m\u001b[43mPATH_TO_DB\u001b[49m\u001b[43m,\u001b[49m\u001b[43m \u001b[49m\u001b[43mcomment\u001b[49m\u001b[38;5;241;43m=\u001b[39;49m\u001b[43mcomment\u001b[49m\u001b[43m)\u001b[49m\n\u001b[1;32m    152\u001b[0m status \u001b[38;5;241m=\u001b[39m item\u001b[38;5;241m.\u001b[39mfind(\u001b[38;5;124m'\u001b[39m\u001b[38;5;124mstatus\u001b[39m\u001b[38;5;124m'\u001b[39m)\n\u001b[1;32m    154\u001b[0m own \u001b[38;5;241m=\u001b[39m \u001b[38;5;28mint\u001b[39m(status\u001b[38;5;241m.\u001b[39mget(\u001b[38;5;124m'\u001b[39m\u001b[38;5;124mown\u001b[39m\u001b[38;5;124m'\u001b[39m))\n",
      "File \u001b[0;32m~/Documents/DataScience/Projects/Board-Game-Scraper/scr/users_bgg.py:99\u001b[0m, in \u001b[0;36mget_comment_id\u001b[0;34m(PATH_TO_DB, comment)\u001b[0m\n\u001b[1;32m     92\u001b[0m cursor \u001b[38;5;241m=\u001b[39m conn\u001b[38;5;241m.\u001b[39mcursor()\n\u001b[1;32m     94\u001b[0m cursor\u001b[38;5;241m.\u001b[39mexecute(\u001b[38;5;124mf\u001b[39m\u001b[38;5;124m'''\u001b[39m\n\u001b[1;32m     95\u001b[0m \u001b[38;5;124m                SELECT c.comment_id\u001b[39m\n\u001b[1;32m     96\u001b[0m \u001b[38;5;124m                FROM comments c\u001b[39m\n\u001b[1;32m     97\u001b[0m \u001b[38;5;124m                WHERE c.comment = ?\u001b[39m\n\u001b[1;32m     98\u001b[0m \u001b[38;5;124m                \u001b[39m\u001b[38;5;124m'''\u001b[39m, (comment,))\n\u001b[0;32m---> 99\u001b[0m comment_id \u001b[38;5;241m=\u001b[39m \u001b[43mcursor\u001b[49m\u001b[38;5;241;43m.\u001b[39;49m\u001b[43mfetchall\u001b[49m\u001b[43m(\u001b[49m\u001b[43m)\u001b[49m\u001b[43m[\u001b[49m\u001b[38;5;241;43m0\u001b[39;49m\u001b[43m]\u001b[49m[\u001b[38;5;241m0\u001b[39m]\n\u001b[1;32m    101\u001b[0m conn\u001b[38;5;241m.\u001b[39mclose()  \u001b[38;5;66;03m# close the connection\u001b[39;00m\n\u001b[1;32m    102\u001b[0m \u001b[38;5;28;01mreturn\u001b[39;00m \u001b[38;5;28mint\u001b[39m(comment_id)\n",
      "\u001b[0;31mIndexError\u001b[0m: list index out of range"
     ]
    }
   ],
   "source": [
    "parse_loaded_users_info(PATH_TO_DB=CFG.PATH_TO_DB, PATH_TO_READ=CFG.PATH_FOR_TMP_USER_FILES, PATH_TO_SAVE=None)"
   ]
  },
  {
   "cell_type": "code",
   "execution_count": 6,
   "id": "bb76c02d",
   "metadata": {},
   "outputs": [
    {
     "name": "stdout",
     "output_type": "stream",
     "text": [
      "False\n"
     ]
    }
   ],
   "source": [
    "if []:\n",
    "    print(True)\n",
    "else: \n",
    "    print(False)"
   ]
  },
  {
   "cell_type": "code",
   "execution_count": 2,
   "id": "50bf37f2",
   "metadata": {},
   "outputs": [],
   "source": []
  },
  {
   "cell_type": "code",
   "execution_count": 3,
   "id": "ec3486ee",
   "metadata": {},
   "outputs": [],
   "source": [
    "nicknames = get_users_for_scrap(CFG.PATH_TO_DB)"
   ]
  },
  {
   "cell_type": "markdown",
   "id": "3f16c649",
   "metadata": {},
   "source": [
    "# User\n",
    "add user into db by nickname\n",
    "\n",
    "add columns to users table: https://boardgamegeek.com/user/zombiegod\n",
    "- work link (boolean)\n",
    "- Registration Date (date)\n",
    "- Last Profile Update (date)\n",
    "- Last Login (date)\n",
    "\n",
    "aldoritm if we dont have user in db: \n",
    "- check link\n",
    "- get profile info\n",
    "- insert user into db"
   ]
  },
  {
   "cell_type": "markdown",
   "id": "5bd067b7",
   "metadata": {},
   "source": [
    "# User's collections\n",
    "- Check 10k users with the oldest update date and download their data to disk\n",
    "- Parse data and load into database\n"
   ]
  },
  {
   "cell_type": "code",
   "execution_count": 21,
   "id": "1df6fe0e",
   "metadata": {},
   "outputs": [],
   "source": [
    "conn = sqlite3.connect(CFG.PATH_TO_DB)\n",
    "\n",
    "# create a cursor object\n",
    "cursor = conn.cursor()\n",
    "\n",
    "cursor.execute('''\n",
    "            SELECT nickname\n",
    "            FROM users\n",
    "            ORDER BY last_check ASC\n",
    "            LIMIt 10000\n",
    "            ''')\n",
    "data = cursor.fetchall()\n",
    "\n",
    "# close the connection\n",
    "conn.close()"
   ]
  },
  {
   "cell_type": "code",
   "execution_count": 23,
   "id": "0da2e0b8",
   "metadata": {
    "scrolled": false
   },
   "outputs": [],
   "source": [
    "nicknames = []\n",
    "for i in data:\n",
    "    nicknames.append(i[0])\n"
   ]
  },
  {
   "cell_type": "code",
   "execution_count": null,
   "id": "c0ba9702",
   "metadata": {},
   "outputs": [],
   "source": []
  },
  {
   "cell_type": "code",
   "execution_count": null,
   "id": "ca9cce58",
   "metadata": {},
   "outputs": [],
   "source": []
  },
  {
   "cell_type": "code",
   "execution_count": null,
   "id": "78d0f4f1",
   "metadata": {},
   "outputs": [],
   "source": []
  },
  {
   "cell_type": "code",
   "execution_count": null,
   "id": "347c06df",
   "metadata": {},
   "outputs": [],
   "source": []
  },
  {
   "cell_type": "code",
   "execution_count": 5,
   "id": "1d9ee205",
   "metadata": {},
   "outputs": [],
   "source": [
    "conn = sqlite3.connect(CFG.PATH_TO_DB)\n",
    "\n",
    "# create a cursor object\n",
    "cursor = conn.cursor()\n",
    "\n",
    "cursor.execute('''\n",
    "            SELECT boardgame_id\n",
    "            FROM boardgames\n",
    "            ''')\n",
    "data = cursor.fetchall()\n",
    "\n",
    "# close the connection\n",
    "conn.close()"
   ]
  },
  {
   "cell_type": "code",
   "execution_count": 6,
   "id": "89eed626",
   "metadata": {},
   "outputs": [
    {
     "data": {
      "text/plain": [
       "134740"
      ]
     },
     "execution_count": 6,
     "metadata": {},
     "output_type": "execute_result"
    }
   ],
   "source": [
    "len(data)"
   ]
  },
  {
   "cell_type": "code",
   "execution_count": 9,
   "id": "63da0f70",
   "metadata": {},
   "outputs": [
    {
     "data": {
      "application/vnd.jupyter.widget-view+json": {
       "model_id": "713fb4ade9464f3d82984bd067ccd791",
       "version_major": 2,
       "version_minor": 0
      },
      "text/plain": [
       "  0%|          | 0/134740 [00:00<?, ?it/s]"
      ]
     },
     "metadata": {},
     "output_type": "display_data"
    }
   ],
   "source": [
    "list_ids = []\n",
    "for i in tqdm(data):\n",
    "    list_ids.append(i[0])"
   ]
  },
  {
   "cell_type": "code",
   "execution_count": null,
   "id": "c1a4fb87",
   "metadata": {},
   "outputs": [],
   "source": []
  },
  {
   "cell_type": "code",
   "execution_count": 4,
   "id": "b81b3b5e",
   "metadata": {},
   "outputs": [],
   "source": []
  },
  {
   "cell_type": "code",
   "execution_count": 4,
   "id": "6bbce337",
   "metadata": {},
   "outputs": [],
   "source": [
    "get_api_user_ratings_data('AdrenRus', save_path=CFG.PATH_FOR_USER_FILES)"
   ]
  },
  {
   "cell_type": "code",
   "execution_count": null,
   "id": "c925e887",
   "metadata": {},
   "outputs": [],
   "source": [
    "get_api_bgg_game_data(unique_ids=[37111], save_path=CFG.PATH_FOR_BG_FILES)"
   ]
  },
  {
   "cell_type": "code",
   "execution_count": 3,
   "id": "0ae0bd27",
   "metadata": {},
   "outputs": [],
   "source": [
    "add_user_into_db('AdrenRus', PATH_TO_DB=CFG.PATH_TO_DB)"
   ]
  },
  {
   "cell_type": "code",
   "execution_count": 4,
   "id": "a866f822",
   "metadata": {},
   "outputs": [
    {
     "data": {
      "text/plain": [
       "[(1669691,\n",
       "  'AdrenRus',\n",
       "  None,\n",
       "  None,\n",
       "  '2021-11-08',\n",
       "  '2022-12-19',\n",
       "  '2023-04-13',\n",
       "  '2023-04-13')]"
      ]
     },
     "execution_count": 4,
     "metadata": {},
     "output_type": "execute_result"
    }
   ],
   "source": [
    "conn = sqlite3.connect(CFG.PATH_TO_DB)\n",
    "\n",
    "# create a cursor object\n",
    "cursor = conn.cursor()\n",
    "\n",
    "cursor.execute('''\n",
    "            SELECT *\n",
    "            FROM users\n",
    "            WHERE nickname = ?\n",
    "            ''',('AdrenRus', ))\n",
    "data = cursor.fetchall()\n",
    "       \n",
    "\n",
    "# cursor.execute('''\n",
    "#             INSERT INTO descriptions (boardgame_id, description) VALUES (?, ?)\n",
    "#             ''',(int(row.boardgame_id), row.description))\n",
    "\n",
    "# commit the changes\n",
    "# conn.commit()\n",
    "\n",
    "# close the connection\n",
    "conn.close()\n",
    "data"
   ]
  },
  {
   "cell_type": "code",
   "execution_count": null,
   "id": "eb6ce650",
   "metadata": {},
   "outputs": [],
   "source": []
  },
  {
   "cell_type": "code",
   "execution_count": 33,
   "id": "429c1419",
   "metadata": {},
   "outputs": [
    {
     "name": "stderr",
     "output_type": "stream",
     "text": [
      "/Users/nikitafedorov/Documents/DataScience/Projects/Board-Game-Scraper/scr/utils.py:29: GuessedAtParserWarning: No parser was explicitly specified, so I'm using the best available HTML parser for this system (\"lxml\"). This usually isn't a problem, but if you run this code on another system, or in a different virtual environment, it may use a different parser and behave differently.\n",
      "\n",
      "The code that caused this warning is on line 29 of the file /Users/nikitafedorov/Documents/DataScience/Projects/Board-Game-Scraper/scr/utils.py. To get rid of this warning, pass the additional argument 'features=\"lxml\"' to the BeautifulSoup constructor.\n",
      "\n",
      "  soup = BeautifulSoup(r.text)\n"
     ]
    },
    {
     "data": {
      "text/plain": [
       "{'registration_date': '2021-11-08',\n",
       " 'last_profile_update': '2022-12-19',\n",
       " 'last_login': '2023-04-13',\n",
       " 'country': '',\n",
       " 'state': '',\n",
       " 'city': '',\n",
       " 'website': '',\n",
       " 'geekmail': 'Send Private Message to AdrenRus'}"
      ]
     },
     "execution_count": 33,
     "metadata": {},
     "output_type": "execute_result"
    }
   ],
   "source": [
    "user = get_user_profile('AdrenRus')\n",
    "user"
   ]
  },
  {
   "cell_type": "code",
   "execution_count": 4,
   "id": "aabfb723",
   "metadata": {},
   "outputs": [
    {
     "data": {
      "text/plain": [
       "[]"
      ]
     },
     "execution_count": 4,
     "metadata": {},
     "output_type": "execute_result"
    }
   ],
   "source": [
    "conn = sqlite3.connect(CFG.PATH_TO_DB)\n",
    "\n",
    "# create a cursor object\n",
    "cursor = conn.cursor()\n",
    "\n",
    "cursor.execute('''\n",
    "            SELECT *\n",
    "            FROM users\n",
    "            WHERE nickname = ?\n",
    "            ''',('AdrenRus', ))\n",
    "data = cursor.fetchall()\n",
    "       \n",
    "\n",
    "# cursor.execute('''\n",
    "#             INSERT INTO descriptions (boardgame_id, description) VALUES (?, ?)\n",
    "#             ''',(int(row.boardgame_id), row.description))\n",
    "\n",
    "# commit the changes\n",
    "# conn.commit()\n",
    "\n",
    "# close the connection\n",
    "conn.close()\n",
    "data"
   ]
  }
 ],
 "metadata": {
  "kernelspec": {
   "display_name": "Python 3 (ipykernel)",
   "language": "python",
   "name": "python3"
  },
  "language_info": {
   "codemirror_mode": {
    "name": "ipython",
    "version": 3
   },
   "file_extension": ".py",
   "mimetype": "text/x-python",
   "name": "python",
   "nbconvert_exporter": "python",
   "pygments_lexer": "ipython3",
   "version": "3.10.6"
  }
 },
 "nbformat": 4,
 "nbformat_minor": 5
}
