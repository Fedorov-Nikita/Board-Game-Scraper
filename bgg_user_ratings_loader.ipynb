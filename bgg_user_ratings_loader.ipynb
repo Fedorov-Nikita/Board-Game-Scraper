{
 "cells": [
  {
   "cell_type": "code",
   "execution_count": 1,
   "id": "f9691abe",
   "metadata": {},
   "outputs": [],
   "source": [
    "import requests as re\n",
    "from bs4 import BeautifulSoup\n",
    "import pandas as pd\n",
    "import json\n",
    "from datetime import datetime\n",
    "import time\n",
    "from tqdm.notebook import tqdm_notebook"
   ]
  },
  {
   "cell_type": "code",
   "execution_count": 5,
   "id": "a083b2ca",
   "metadata": {},
   "outputs": [],
   "source": [
    "def get_user_ratings(nickname, sleep=True):\n",
    "    '''\n",
    "    This function takes the boardgamegeek.com username as input \n",
    "    and returns a pandas DataFrame with all of the user's scores\n",
    "    '''\n",
    "    url_coll_main = 'https://api.geekdo.com/xmlapi/collection/'\n",
    "    params = '?rated=1'\n",
    "    \n",
    "    if sleep: \n",
    "        r = re.get(url_coll_main + nickname + params)\n",
    "        time.sleep(14.66)\n",
    "    time.sleep(0.33)\n",
    "    r = re.get(url_coll_main + nickname + params)\n",
    "    soup = BeautifulSoup(r.text, features=\"xml\")\n",
    "    ratings = pd.DataFrame()\n",
    "    rows = soup.find_all('item')\n",
    "    for item in rows:\n",
    "        boardgame_id = item.get('objectid')\n",
    "        try:\n",
    "            title = item.find('name').text\n",
    "        except:\n",
    "            title = ''\n",
    "        try:\n",
    "            rating = item.find('stats').find('rating').get('value')\n",
    "        except:\n",
    "            rating = ''\n",
    "        try:\n",
    "            num_of_plays = item.find('numplays').text\n",
    "        except:\n",
    "            num_of_plays = ''\n",
    "        try:\n",
    "            comment = item.find('comment').text\n",
    "        except:\n",
    "            comment = ''\n",
    "\n",
    "        status = item.find('status')\n",
    "        own = status.get('own')\n",
    "        prevowned = status.get('prevowned')\n",
    "        fortrade = status.get('fortrade')\n",
    "        want = status.get('want')\n",
    "        wanttoplay = status.get('wanttoplay')\n",
    "        wanttobuy = status.get('wanttobuy')\n",
    "        wishlist = status.get('wishlist') \n",
    "        preordered = status.get('preordered')\n",
    "        last_modified = status.get('lastmodified')\n",
    "\n",
    "\n",
    "        vote = {'nickname':nickname, 'title': title, 'boardgame_id':boardgame_id, 'rating':rating, \n",
    "                'num_of_plays':num_of_plays, \n",
    "                    'comment': comment, 'own':own, 'prevowned':prevowned, 'fortrade':fortrade, \n",
    "                    'want':want, 'wanttoplay':wanttoplay, 'wanttobuy':wanttobuy, \n",
    "                    'wishlist':wishlist, 'preordered':preordered, 'last_modified':last_modified}\n",
    "        ratings = pd.concat([ratings, pd.DataFrame([vote])])\n",
    "    return ratings"
   ]
  },
  {
   "cell_type": "code",
   "execution_count": 61,
   "id": "d19ac967",
   "metadata": {},
   "outputs": [
    {
     "name": "stdout",
     "output_type": "stream",
     "text": [
      "Checked 1664526, in progress 5164, left 0 nicknames\n"
     ]
    },
    {
     "data": {
      "application/vnd.jupyter.widget-view+json": {
       "model_id": "64197d97412b4d7ea2c62d6d3efa759e",
       "version_major": 2,
       "version_minor": 0
      },
      "text/plain": [
       "  0%|          | 0/5164 [00:00<?, ?it/s]"
      ]
     },
     "metadata": {},
     "output_type": "display_data"
    },
    {
     "data": {
      "application/vnd.jupyter.widget-view+json": {
       "model_id": "697ecc5231e34191a4fa69f83ee2ab75",
       "version_major": 2,
       "version_minor": 0
      },
      "text/plain": [
       "0it [00:00, ?it/s]"
      ]
     },
     "metadata": {},
     "output_type": "display_data"
    },
    {
     "name": "stdout",
     "output_type": "stream",
     "text": [
      "49827 rows added\n",
      "CPU times: user 4min 31s, sys: 18.2 s, total: 4min 49s\n",
      "Wall time: 1h 49min 17s\n"
     ]
    }
   ],
   "source": [
    "%%time\n",
    "checked = pd.read_csv('checked_nicknames.csv')\n",
    "nicknames = pd.read_csv('bgg_users_full.csv')\n",
    "nicknames = list(set(nicknames.nickname) - set(checked.nicknames))\n",
    "rates = pd.DataFrame()\n",
    "test_nn = nicknames[:5164]\n",
    "print(f'Checked {len(checked)}, in progress {len(test_nn)}, left {len(nicknames)-len(test_nn)} nicknames')\n",
    "for nn in tqdm_notebook(test_nn):\n",
    "    get_user_ratings(nn, sleep=False)\n",
    "for i, nn in tqdm_notebook(enumerate(test_nn)):\n",
    "    rates = pd.concat([rates,get_user_ratings(nn, sleep=False)])\n",
    "#     if (i+1)%100==0: \n",
    "#         rates.to_csv('ratings_tmp.csv', index=False)\n",
    "        \n",
    "print(f'{len(rates)} rows added')\n",
    "checked = pd.concat([checked,pd.DataFrame(test_nn, columns=['nicknames'])])\n",
    "dt = datetime.now()\n",
    "rates.to_csv(f'bgg_ratings_{dt.year}_{dt.month}_{dt.day}_{dt.hour}_{dt.minute}_{dt.second}_{len(test_nn)}.csv', index=False)\n",
    "checked.to_csv(f'checked_nicknames.csv', index=False)"
   ]
  }
 ],
 "metadata": {
  "kernelspec": {
   "display_name": "Python 3 (ipykernel)",
   "language": "python",
   "name": "python3"
  },
  "language_info": {
   "codemirror_mode": {
    "name": "ipython",
    "version": 3
   },
   "file_extension": ".py",
   "mimetype": "text/x-python",
   "name": "python",
   "nbconvert_exporter": "python",
   "pygments_lexer": "ipython3",
   "version": "3.10.6"
  }
 },
 "nbformat": 4,
 "nbformat_minor": 5
}
