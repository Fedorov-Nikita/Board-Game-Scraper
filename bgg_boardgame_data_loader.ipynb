{
 "cells": [
  {
   "cell_type": "code",
   "execution_count": 2,
   "id": "d63bb074",
   "metadata": {},
   "outputs": [],
   "source": [
    "import os\n",
    "import requests as re\n",
    "from bs4 import BeautifulSoup\n",
    "import pandas as pd\n",
    "import json\n",
    "from datetime import datetime\n",
    "import time\n",
    "from tqdm.notebook import tqdm_notebook"
   ]
  },
  {
   "cell_type": "code",
   "execution_count": 114,
   "id": "b2738068",
   "metadata": {},
   "outputs": [],
   "source": [
    "def get_api_bgg_game_data(unique_ids):\n",
    "    '''\n",
    "    This function retrieves aggregated game information via the boardgamegeek.com API\n",
    "    \n",
    "    ----------\n",
    "    \n",
    "    unique_ids - list of unique boardgames ids (it is best to feed a list of no more than 50 id)\n",
    "    \n",
    "    ----------\n",
    "    Using API BoardGameGeek:\n",
    "    https://api.geekdo.com/xmlapi/boardgame/37111?stats=1&pricehistory=1&marketplace=1&comments=1\n",
    "\n",
    "    base - https://api.geekdo.com/xmlapi/boardgame\n",
    "    game - /37111 - gameid\n",
    "    params - ?stats=1&pricehistory=1&marketplace=1&comments=1\n",
    "    comments: Show brief user comments on games (set it to 1, absent by default)\n",
    "    stats: Include game statistics (set it to 1, absent by default)\n",
    "    historical: Include historical game statistics (set it to 1, absent by default) - Use from/end parameters to set starting and ending dates. Returns all data starting from 2006-03-18.\n",
    "    from: Set the start date to include historical data (format: YYYY-MM-DD, absent by default )\n",
    "    to: Set the end date to include historical data (format: YYYY-MM-DD, absent by default )\n",
    "    pricehistory: retrieve the marketplace history for this item (set it to 1, absent by default)\n",
    "    marketplace: retrieve the current marketplace listings (set it to 1, absent by default)\n",
    "    '''\n",
    "    url_id = ''\n",
    "    for i in range(len(unique_ids)):\n",
    "        if i == 0:\n",
    "            url_id = str(unique_ids[i])\n",
    "        else:\n",
    "            url_id += ',' + str(unique_ids[i])\n",
    "\n",
    "    api_boardgame = 'https://api.geekdo.com/xmlapi/boardgame/'\n",
    "    api_params = '?stats=1&pricehistory=1&marketplace=1&comments=1'\n",
    "    r = re.get(api_boardgame + url_id + api_params)\n",
    "    soup = BeautifulSoup(r.text, 'xml')\n",
    "    list_bg = soup.find_all('boardgame')\n",
    "    for bg in list_bg:\n",
    "        boardgame_id = bg.get('objectid')\n",
    "#         dir_path = '../Board-Game-Data/scrapped/bgg_boardgame'\n",
    "        dir_path = './data/scraped/'\n",
    "        with open(dir_path + '/' + str(boardgame_id) + '.xml', 'w', encoding='utf-8') as f:\n",
    "            f.write(str(bg))\n",
    "    return list_bg\n"
   ]
  },
  {
   "cell_type": "code",
   "execution_count": 74,
   "id": "d44bef72",
   "metadata": {},
   "outputs": [],
   "source": [
    "new_bgg_boardgames = list(set(bgg_gamelist) - set(list_bg))\n",
    "list_of_lists_of_ids = []\n",
    "for it in range(len(new_bgg_boardgames)//50+1):\n",
    "    if it < len(new_bgg_boardgames)//50+1:\n",
    "        list_of_lists_of_ids.append(new_bgg_boardgames[it*50:50+it*50])\n",
    "    else:\n",
    "        list_of_lists_of_ids.append(new_bgg_boardgames[it*50:])"
   ]
  },
  {
   "cell_type": "code",
   "execution_count": 77,
   "id": "6b9acb35",
   "metadata": {},
   "outputs": [
    {
     "data": {
      "application/vnd.jupyter.widget-view+json": {
       "model_id": "4aa32cf61dde4b238920108e4edcb849",
       "version_major": 2,
       "version_minor": 0
      },
      "text/plain": [
       "  0%|          | 0/2698 [00:00<?, ?it/s]"
      ]
     },
     "metadata": {},
     "output_type": "display_data"
    }
   ],
   "source": [
    "for i in tqdm_notebook(range(len(list_of_lists_of_ids))):\n",
    "    get_api_bgg_game_data(list_of_lists_of_ids[i])\n",
    "    time.sleep(0.33)"
   ]
  },
  {
   "cell_type": "code",
   "execution_count": 3,
   "id": "4df459cb",
   "metadata": {},
   "outputs": [],
   "source": [
    "content = os.listdir('../Board-Game-Data/scraped/bgg_boardgame/')\n",
    "list_bg = []\n",
    "for file in content:\n",
    "    try:\n",
    "        list_bg.append(int(file.split('.')[0]))\n",
    "    except:\n",
    "        pass"
   ]
  },
  {
   "cell_type": "code",
   "execution_count": 124,
   "id": "ed3db2a0",
   "metadata": {},
   "outputs": [],
   "source": [
    "pd.DataFrame(list_bg, columns=['bgg_id']).to_csv('../Board-Game-Data/list_of_loaded_bgg_boardgames.csv', index=False)"
   ]
  }
 ],
 "metadata": {
  "kernelspec": {
   "display_name": "Python 3 (ipykernel)",
   "language": "python",
   "name": "python3"
  },
  "language_info": {
   "codemirror_mode": {
    "name": "ipython",
    "version": 3
   },
   "file_extension": ".py",
   "mimetype": "text/x-python",
   "name": "python",
   "nbconvert_exporter": "python",
   "pygments_lexer": "ipython3",
   "version": "3.10.6"
  }
 },
 "nbformat": 4,
 "nbformat_minor": 5
}
